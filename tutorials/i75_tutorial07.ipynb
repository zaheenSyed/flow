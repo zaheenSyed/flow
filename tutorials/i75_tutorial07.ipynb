{
 "cells": [
  {
   "cell_type": "code",
   "execution_count": 1,
   "id": "16a30eb3",
   "metadata": {},
   "outputs": [],
   "source": [
    "# the TestEnv environment is used to simply simulate the network\n",
    "from flow.envs import TestEnv\n",
    "\n",
    "# the Experiment class is used for running simulations\n",
    "from flow.core.experiment import Experiment\n",
    "\n",
    "# the base network class\n",
    "from flow.networks import Network\n",
    "\n",
    "# all other imports are standard\n",
    "from flow.core.params import VehicleParams\n",
    "from flow.core.params import NetParams\n",
    "from flow.core.params import InitialConfig\n",
    "from flow.core.params import EnvParams\n",
    "\n",
    "# create some default parameters parameters\n",
    "env_params = EnvParams()\n",
    "initial_config = InitialConfig()\n",
    "vehicles = VehicleParams()\n",
    "vehicles.add('human', num_vehicles=1)"
   ]
  },
  {
   "cell_type": "code",
   "execution_count": 2,
   "id": "143de43e",
   "metadata": {},
   "outputs": [],
   "source": [
    "LuST_dir = \"/home/zemsyed/flow/tutorials/i75\""
   ]
  },
  {
   "cell_type": "code",
   "execution_count": 3,
   "id": "758b50e9",
   "metadata": {},
   "outputs": [],
   "source": [
    "from flow.core.params import SumoParams\n",
    "\n",
    "sim_params = SumoParams(render=True, sim_step=1)"
   ]
  },
  {
   "cell_type": "code",
   "execution_count": 4,
   "id": "5c02b01e",
   "metadata": {},
   "outputs": [],
   "source": [
    "import os\n",
    "\n",
    "net_params = NetParams(\n",
    "    template=os.path.join(LuST_dir, \"I75_Final.net.xml\"),\n",
    ")"
   ]
  },
  {
   "cell_type": "code",
   "execution_count": 5,
   "id": "df9f55aa",
   "metadata": {},
   "outputs": [
    {
     "data": {
      "text/plain": [
       "'/home/zemsyed/flow/tutorials/i75/I75_Final.net.xml'"
      ]
     },
     "execution_count": 5,
     "metadata": {},
     "output_type": "execute_result"
    }
   ],
   "source": [
    "template=os.path.join(LuST_dir, \"I75_Final.net.xml\")\n",
    "template"
   ]
  },
  {
   "cell_type": "code",
   "execution_count": 6,
   "id": "be544eee",
   "metadata": {},
   "outputs": [],
   "source": [
    "# specify the edges vehicles can originate on\n",
    "initial_config = InitialConfig(\n",
    "    edges_distribution=[\"1to2\"]\n",
    ")\n",
    "\n",
    "\n",
    "# specify the routes for vehicles in the network\n",
    "class TemplateNetwork(Network):\n",
    "\n",
    "    def specify_routes(self, net_params):\n",
    "        return {\"1to2\": [\"1to2\"]}"
   ]
  },
  {
   "cell_type": "code",
   "execution_count": 8,
   "id": "18176e09",
   "metadata": {},
   "outputs": [
    {
     "name": "stderr",
     "output_type": "stream",
     "text": [
      "X Error: code 2 major 152 minor 3: BadValue (integer parameter out of range for operation).\n"
     ]
    },
    {
     "name": "stdout",
     "output_type": "stream",
     "text": [
      "Round 0, return: 0\n",
      "Average, std returns: 0.0, 0.0\n",
      "Average, std velocities: nan, nan\n",
      "Average, std outflows: 0.0, 0.0\n",
      "Total time: 4.993363857269287\n",
      "steps/second: 6998.196023375076\n"
     ]
    },
    {
     "name": "stderr",
     "output_type": "stream",
     "text": [
      "/home/zemsyed/mambaforge/envs/flow/lib/python3.7/site-packages/numpy-1.18.4-py3.7-linux-x86_64.egg/numpy/core/fromnumeric.py:3335: RuntimeWarning: Mean of empty slice.\n",
      "  out=out, **kwargs)\n",
      "/home/zemsyed/mambaforge/envs/flow/lib/python3.7/site-packages/numpy-1.18.4-py3.7-linux-x86_64.egg/numpy/core/_methods.py:161: RuntimeWarning: invalid value encountered in double_scalars\n",
      "  ret = ret.dtype.type(ret / rcount)\n",
      "free(): invalid pointer\n"
     ]
    }
   ],
   "source": [
    "flow_params = dict(\n",
    "    exp_tag='template',\n",
    "    env_name=TestEnv,\n",
    "    network=TemplateNetwork,\n",
    "    simulator='traci',\n",
    "    sim=sim_params,\n",
    "    env=env_params,\n",
    "    net=net_params,\n",
    "    veh=vehicles,\n",
    "    initial=initial_config,\n",
    ")\n",
    "\n",
    "# number of time steps\n",
    "flow_params['env'].horizon = 1000\n",
    "exp = Experiment(flow_params)\n",
    "\n",
    "# run the sumo simulation\n",
    "_ = exp.run(1)"
   ]
  },
  {
   "cell_type": "code",
   "execution_count": null,
   "id": "15f09939",
   "metadata": {},
   "outputs": [],
   "source": []
  }
 ],
 "metadata": {
  "kernelspec": {
   "display_name": "flowEnv",
   "language": "python",
   "name": "flowenv"
  },
  "language_info": {
   "codemirror_mode": {
    "name": "ipython",
    "version": 3
   },
   "file_extension": ".py",
   "mimetype": "text/x-python",
   "name": "python",
   "nbconvert_exporter": "python",
   "pygments_lexer": "ipython3",
   "version": "3.7.3"
  }
 },
 "nbformat": 4,
 "nbformat_minor": 5
}
